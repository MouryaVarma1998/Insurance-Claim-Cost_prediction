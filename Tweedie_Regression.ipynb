{
  "nbformat": 4,
  "nbformat_minor": 0,
  "metadata": {
    "colab": {
      "name": "Tweedie Regression",
      "provenance": [],
      "machine_shape": "hm"
    },
    "kernelspec": {
      "name": "python3",
      "display_name": "Python 3"
    },
    "accelerator": "GPU"
  },
  "cells": [
    {
      "cell_type": "code",
      "metadata": {
        "id": "31kjk-Bf25C4",
        "colab": {
          "base_uri": "https://localhost:8080/",
          "height": 72
        },
        "outputId": "2ea8beda-7ca3-48da-e6aa-281fc74fbd38"
      },
      "source": [
        "%matplotlib inline\n",
        "import pandas as pd\n",
        "from patsy import dmatrices\n",
        "import numpy as np\n",
        "import statsmodels.api as sm\n",
        "import matplotlib as mpl\n",
        "import matplotlib.pyplot as plt\n",
        "import seaborn as sns\n",
        "from statsmodels.compat import lzip\n",
        "from statsmodels.graphics.api import abline_plot\n",
        "from statsmodels.genmod.generalized_linear_model import GLM"
      ],
      "execution_count": null,
      "outputs": [
        {
          "output_type": "stream",
          "text": [
            "/usr/local/lib/python3.6/dist-packages/statsmodels/tools/_testing.py:19: FutureWarning: pandas.util.testing is deprecated. Use the functions in the public API at pandas.testing instead.\n",
            "  import pandas.util.testing as tm\n"
          ],
          "name": "stderr"
        }
      ]
    },
    {
      "cell_type": "code",
      "metadata": {
        "id": "T9oFXygO3V4A"
      },
      "source": [
        "# Reading csv data\n",
        "df = pd.read_csv('data1.csv')"
      ],
      "execution_count": null,
      "outputs": []
    },
    {
      "cell_type": "markdown",
      "metadata": {
        "id": "qWZoRewdaaNl"
      },
      "source": [
        "Data Check"
      ]
    },
    {
      "cell_type": "code",
      "metadata": {
        "id": "NUEN3NORanOZ",
        "outputId": "68e669a5-7a9d-40ec-81ae-95ca865c70a1",
        "colab": {
          "base_uri": "https://localhost:8080/",
          "height": 34
        }
      },
      "source": [
        "# Rows containing duplicate data\n",
        "duplicate_rows_df = df[df.duplicated()]\n",
        "print(\"number of duplicate rows:\", duplicate_rows_df.shape)"
      ],
      "execution_count": null,
      "outputs": [
        {
          "output_type": "stream",
          "text": [
            "number of duplicate rows: (378, 11)\n"
          ],
          "name": "stdout"
        }
      ]
    },
    {
      "cell_type": "code",
      "metadata": {
        "id": "UtHc0LXka3vs",
        "outputId": "d8b29bd9-1869-4244-b316-e050e57d358f",
        "colab": {
          "base_uri": "https://localhost:8080/",
          "height": 197
        }
      },
      "source": [
        "# Dropping duplicate rows\n",
        "df1 = df.drop_duplicates()\n",
        "df1.head(5)"
      ],
      "execution_count": null,
      "outputs": [
        {
          "output_type": "execute_result",
          "data": {
            "text/html": [
              "<div>\n",
              "<style scoped>\n",
              "    .dataframe tbody tr th:only-of-type {\n",
              "        vertical-align: middle;\n",
              "    }\n",
              "\n",
              "    .dataframe tbody tr th {\n",
              "        vertical-align: top;\n",
              "    }\n",
              "\n",
              "    .dataframe thead th {\n",
              "        text-align: right;\n",
              "    }\n",
              "</style>\n",
              "<table border=\"1\" class=\"dataframe\">\n",
              "  <thead>\n",
              "    <tr style=\"text-align: right;\">\n",
              "      <th></th>\n",
              "      <th>veh_value</th>\n",
              "      <th>exposure</th>\n",
              "      <th>clm</th>\n",
              "      <th>numclaims</th>\n",
              "      <th>claimcst0</th>\n",
              "      <th>veh_body</th>\n",
              "      <th>veh_age</th>\n",
              "      <th>gender</th>\n",
              "      <th>area</th>\n",
              "      <th>agecat</th>\n",
              "      <th>X_OBSTAT_</th>\n",
              "    </tr>\n",
              "  </thead>\n",
              "  <tbody>\n",
              "    <tr>\n",
              "      <th>0</th>\n",
              "      <td>1.06</td>\n",
              "      <td>0.303901</td>\n",
              "      <td>0</td>\n",
              "      <td>0</td>\n",
              "      <td>0.0</td>\n",
              "      <td>HBACK</td>\n",
              "      <td>3</td>\n",
              "      <td>F</td>\n",
              "      <td>C</td>\n",
              "      <td>2</td>\n",
              "      <td>01101    0    0    0</td>\n",
              "    </tr>\n",
              "    <tr>\n",
              "      <th>1</th>\n",
              "      <td>1.03</td>\n",
              "      <td>0.648871</td>\n",
              "      <td>0</td>\n",
              "      <td>0</td>\n",
              "      <td>0.0</td>\n",
              "      <td>HBACK</td>\n",
              "      <td>2</td>\n",
              "      <td>F</td>\n",
              "      <td>A</td>\n",
              "      <td>4</td>\n",
              "      <td>01101    0    0    0</td>\n",
              "    </tr>\n",
              "    <tr>\n",
              "      <th>2</th>\n",
              "      <td>3.26</td>\n",
              "      <td>0.569473</td>\n",
              "      <td>0</td>\n",
              "      <td>0</td>\n",
              "      <td>0.0</td>\n",
              "      <td>UTE</td>\n",
              "      <td>2</td>\n",
              "      <td>F</td>\n",
              "      <td>E</td>\n",
              "      <td>2</td>\n",
              "      <td>01101    0    0    0</td>\n",
              "    </tr>\n",
              "    <tr>\n",
              "      <th>3</th>\n",
              "      <td>4.14</td>\n",
              "      <td>0.317591</td>\n",
              "      <td>0</td>\n",
              "      <td>0</td>\n",
              "      <td>0.0</td>\n",
              "      <td>STNWG</td>\n",
              "      <td>2</td>\n",
              "      <td>F</td>\n",
              "      <td>D</td>\n",
              "      <td>2</td>\n",
              "      <td>01101    0    0    0</td>\n",
              "    </tr>\n",
              "    <tr>\n",
              "      <th>4</th>\n",
              "      <td>0.72</td>\n",
              "      <td>0.648871</td>\n",
              "      <td>0</td>\n",
              "      <td>0</td>\n",
              "      <td>0.0</td>\n",
              "      <td>HBACK</td>\n",
              "      <td>4</td>\n",
              "      <td>F</td>\n",
              "      <td>C</td>\n",
              "      <td>2</td>\n",
              "      <td>01101    0    0    0</td>\n",
              "    </tr>\n",
              "  </tbody>\n",
              "</table>\n",
              "</div>"
            ],
            "text/plain": [
              "   veh_value  exposure  clm  ...  area  agecat             X_OBSTAT_\n",
              "0       1.06  0.303901    0  ...     C       2  01101    0    0    0\n",
              "1       1.03  0.648871    0  ...     A       4  01101    0    0    0\n",
              "2       3.26  0.569473    0  ...     E       2  01101    0    0    0\n",
              "3       4.14  0.317591    0  ...     D       2  01101    0    0    0\n",
              "4       0.72  0.648871    0  ...     C       2  01101    0    0    0\n",
              "\n",
              "[5 rows x 11 columns]"
            ]
          },
          "metadata": {
            "tags": []
          },
          "execution_count": 4
        }
      ]
    },
    {
      "cell_type": "code",
      "metadata": {
        "id": "ZnWa7nghA-d9"
      },
      "source": [
        "# Dropping observations with zero vehicle value\n",
        "df2 = df1[df1.veh_value !=0]"
      ],
      "execution_count": null,
      "outputs": []
    },
    {
      "cell_type": "markdown",
      "metadata": {
        "id": "Gm4VQ5mlaeBw"
      },
      "source": [
        "Exploring Data"
      ]
    },
    {
      "cell_type": "code",
      "metadata": {
        "id": "Vf8L3XCAeFzY",
        "outputId": "c5ad9037-87c6-4238-dd6b-ca6f6e327568",
        "colab": {
          "base_uri": "https://localhost:8080/",
          "height": 241
        }
      },
      "source": [
        "#Gender\n",
        "fig, (ax1, ax2) = plt.subplots(ncols=2)\n",
        "fig.set_size_inches(10,3)\n",
        "g = sns.countplot(x='gender',data=df2.sort_values('gender'), ax=ax1)\n",
        "title = g.set_title('Overall Data')\n",
        "g = sns.countplot(x='gender',data=df2[df2['numclaims']>0].sort_values('gender'), ax=ax2)\n",
        "title = g.set_title('Excluded Zero Values')"
      ],
      "execution_count": null,
      "outputs": [
        {
          "output_type": "display_data",
          "data": {
            "image/png": "[encoded data removed]",
            "text/plain": [
              "<Figure size 720x216 with 2 Axes>"
            ]
          },
          "metadata": {
            "tags": [],
            "needs_background": "light"
          }
        }
      ]
    },
    {
      "cell_type": "code",
      "metadata": {
        "id": "vS1tJP16hh-U",
        "outputId": "9aed3f07-8017-4f40-9e52-037b28a3d3c3",
        "colab": {
          "base_uri": "https://localhost:8080/",
          "height": 348
        }
      },
      "source": [
        "# Converting vehcile value as categorical\n",
        "df2['veh_value_cat'] = df2['veh_value'].apply(lambda x:1 if x<=1 else 2 if x<=2 else 3 if x<=3 else 4 if x<=4 else 5)\n",
        "#Graphs\n",
        "fig, (ax1, ax2) = plt.subplots(ncols=2)\n",
        "fig.set_size_inches(10,3)\n",
        "g = sns.countplot(x='veh_value_cat',data=df2, ax=ax1)\n",
        "title = g.set_title('Overall Data')\n",
        "g = sns.countplot(x='veh_value_cat',data=df2[df2['numclaims']>0], ax=ax2)\n",
        "title = g.set_title('Excluded Zero Values')"
      ],
      "execution_count": null,
      "outputs": [
        {
          "output_type": "stream",
          "text": [
            "/usr/local/lib/python3.6/dist-packages/ipykernel_launcher.py:1: SettingWithCopyWarning: \n",
            "A value is trying to be set on a copy of a slice from a DataFrame.\n",
            "Try using .loc[row_indexer,col_indexer] = value instead\n",
            "\n",
            "See the caveats in the documentation: https://pandas.pydata.org/pandas-docs/stable/user_guide/indexing.html#returning-a-view-versus-a-copy\n",
            "  \"\"\"Entry point for launching an IPython kernel.\n"
          ],
          "name": "stderr"
        },
        {
          "output_type": "display_data",
          "data": {
            "image/png": "[encoded data removed]",
            "text/plain": [
              "<Figure size 720x216 with 2 Axes>"
            ]
          },
          "metadata": {
            "tags": [],
            "needs_background": "light"
          }
        }
      ]
    },
    {
      "cell_type": "code",
      "metadata": {
        "id": "zuQrIA0GxJo9",
        "outputId": "7418685c-12aa-4dc8-a70c-57baddcdac4e",
        "colab": {
          "base_uri": "https://localhost:8080/",
          "height": 242
        }
      },
      "source": [
        "# Vehicle Age\n",
        "fig, (ax1, ax2) = plt.subplots(ncols=2)\n",
        "fig.set_size_inches(10,3)\n",
        "g = sns.countplot(x='veh_age',data=df2,ax=ax1)\n",
        "title = g.set_title('Overall Data')\n",
        "g = sns.countplot(x='veh_age',data=df2[df2['numclaims']>0], ax=ax2)\n",
        "title = g.set_title('Excluded Zero Values')"
      ],
      "execution_count": null,
      "outputs": [
        {
          "output_type": "display_data",
          "data": {
            "image/png": "[encoded data removed]",
            "text/plain": [
              "<Figure size 720x216 with 2 Axes>"
            ]
          },
          "metadata": {
            "tags": [],
            "needs_background": "light"
          }
        }
      ]
    },
    {
      "cell_type": "code",
      "metadata": {
        "id": "mxr3tJf8yaqD",
        "outputId": "63472b6c-21ba-4e6c-9dd5-e817afc477e1",
        "colab": {
          "base_uri": "https://localhost:8080/",
          "height": 241
        }
      },
      "source": [
        "# Driver Age\n",
        "fig, (ax1, ax2) = plt.subplots(ncols=2)\n",
        "fig.set_size_inches(10,3)\n",
        "g = sns.countplot(x='agecat',data=df2, ax=ax1)\n",
        "title = g.set_title('Overall Data')\n",
        "g = sns.countplot(x='agecat',data=df2[df2['numclaims']>0],ax=ax2)\n",
        "title = g.set_title('Excluded Zero Values')"
      ],
      "execution_count": null,
      "outputs": [
        {
          "output_type": "display_data",
          "data": {
            "image/png": "[encoded data removed]",
            "text/plain": [
              "<Figure size 720x216 with 2 Axes>"
            ]
          },
          "metadata": {
            "tags": [],
            "needs_background": "light"
          }
        }
      ]
    },
    {
      "cell_type": "code",
      "metadata": {
        "id": "hN67mKCI7YZi",
        "outputId": "d935a654-42b3-41a1-c4d8-7c12dbd09de7",
        "colab": {
          "base_uri": "https://localhost:8080/",
          "height": 264
        }
      },
      "source": [
        "# Vehicle Body Type\n",
        "fig, (ax1, ax2) = plt.subplots(ncols=2)\n",
        "fig.set_size_inches(10,3)\n",
        "g = sns.countplot(x='veh_body',data=df2,ax=ax1)\n",
        "label = g.set_xticklabels(g.get_xticklabels(), rotation=45)\n",
        "title = g.set_title('Overall Data')\n",
        "g = sns.countplot(x='veh_body',data=df2[df2['numclaims']>0], ax=ax2)\n",
        "label = g.set_xticklabels(g.get_xticklabels(), rotation=45)\n",
        "title = g.set_title('Excluded Zero Values')"
      ],
      "execution_count": null,
      "outputs": [
        {
          "output_type": "display_data",
          "data": {
            "image/png": "[encoded data removed]",
            "text/plain": [
              "<Figure size 720x216 with 2 Axes>"
            ]
          },
          "metadata": {
            "tags": [],
            "needs_background": "light"
          }
        }
      ]
    },
    {
      "cell_type": "code",
      "metadata": {
        "id": "_DZcVOIJ8U2t",
        "outputId": "6bfdbd18-ab0f-4004-8d1a-2e34f8bbf7ef",
        "colab": {
          "base_uri": "https://localhost:8080/",
          "height": 123
        }
      },
      "source": [
        "#Grouping bottom categories as \"others\"\n",
        "series = pd.value_counts(df2.veh_body)\n",
        "mask = (series/series.sum() * 100).lt(1)\n",
        "# To replace df['column'] use np.where I.e\n",
        "df2['veh_body'] = np.where(df2['veh_body'].isin(series[mask].index),'Other',df2['veh_body'])"
      ],
      "execution_count": null,
      "outputs": [
        {
          "output_type": "stream",
          "text": [
            "/usr/local/lib/python3.6/dist-packages/ipykernel_launcher.py:4: SettingWithCopyWarning: \n",
            "A value is trying to be set on a copy of a slice from a DataFrame.\n",
            "Try using .loc[row_indexer,col_indexer] = value instead\n",
            "\n",
            "See the caveats in the documentation: https://pandas.pydata.org/pandas-docs/stable/user_guide/indexing.html#returning-a-view-versus-a-copy\n",
            "  after removing the cwd from sys.path.\n"
          ],
          "name": "stderr"
        }
      ]
    },
    {
      "cell_type": "code",
      "metadata": {
        "id": "YxJw6CQLTHfh"
      },
      "source": [
        "# Converting into string\n",
        "df3 = df2.astype({\"veh_body\":str,\"veh_age\":str,\"gender\":str,\"area\":str,\"agecat\":str,\"veh_value_cat\":str})"
      ],
      "execution_count": null,
      "outputs": []
    },
    {
      "cell_type": "code",
      "metadata": {
        "id": "0VWa8WeK3gJ6",
        "outputId": "807f4302-3beb-4d9b-8398-5f0a847a7fdd",
        "colab": {
          "base_uri": "https://localhost:8080/",
          "height": 52
        }
      },
      "source": [
        "# Training and test split\n",
        "mask = np.random.rand(len(df3)) < 0.8\n",
        "df_train = df3[mask]\n",
        "df_test = df3[~mask]\n",
        "print('Training data set length='+str(len(df_train)))\n",
        "print('Testing data set length='+str(len(df_test)))"
      ],
      "execution_count": null,
      "outputs": [
        {
          "output_type": "stream",
          "text": [
            "Training data set length=54175\n",
            "Testing data set length=13251\n"
          ],
          "name": "stdout"
        }
      ]
    },
    {
      "cell_type": "markdown",
      "metadata": {
        "id": "SemoNia-9is8"
      },
      "source": [
        "Statsmodels - Poisson"
      ]
    },
    {
      "cell_type": "code",
      "metadata": {
        "id": "5bflV40u-tRp"
      },
      "source": [
        "# Model expression\n",
        "expr = \"\"\"claimcst0 ~ veh_value_cat+veh_body+veh_age+gender+area+agecat\"\"\""
      ],
      "execution_count": null,
      "outputs": []
    },
    {
      "cell_type": "code",
      "metadata": {
        "id": "n6AmUtGZ-wbS"
      },
      "source": [
        "# Converting data into dmatrices\n",
        "y_train, X_train = dmatrices(expr, df_train, return_type='dataframe')\n",
        "y_test, X_test = dmatrices(expr, df_test, return_type='dataframe')"
      ],
      "execution_count": null,
      "outputs": []
    },
    {
      "cell_type": "code",
      "metadata": {
        "id": "p4twDOVF8LAa"
      },
      "source": [
        "# Training model\n",
        "tweedie_model = sm.GLM(y_train, X_train, exposure = df_train.exposure, family=sm.families.Tweedie(link=None,var_power=1.6,eql=True))"
      ],
      "execution_count": null,
      "outputs": []
    },
    {
      "cell_type": "code",
      "metadata": {
        "id": "fnNeC41srasR"
      },
      "source": [
        "tweedie_result = tweedie_model.fit()"
      ],
      "execution_count": null,
      "outputs": []
    },
    {
      "cell_type": "code",
      "metadata": {
        "id": "n4bqVVSW3pce",
        "outputId": "c08a2395-41e4-4fb2-8adf-b8d3175e9285",
        "colab": {
          "base_uri": "https://localhost:8080/",
          "height": 781
        }
      },
      "source": [
        "print(tweedie_result.summary2())"
      ],
      "execution_count": null,
      "outputs": [
        {
          "output_type": "stream",
          "text": [
            "                Results: Generalized linear model\n",
            "==================================================================\n",
            "Model:               GLM              AIC:            994762.4441 \n",
            "Link Function:       log              BIC:            2323319.5037\n",
            "Dependent Variable:  claimcst0        Log-Likelihood: -4.9735e+05 \n",
            "Date:                2020-04-20 05:27 LL-Null:        -5.0013e+05 \n",
            "No. Observations:    54175            Deviance:       2.9135e+06  \n",
            "Df Model:            27               Pearson chi2:   3.27e+08    \n",
            "Df Residuals:        54147            Scale:          6041.8      \n",
            "Method:              IRLS                                         \n",
            "------------------------------------------------------------------\n",
            "                    Coef.  Std.Err.    z    P>|z|   [0.025  0.975]\n",
            "------------------------------------------------------------------\n",
            "Intercept           7.0313   1.2736  5.5210 0.0000  4.5352  9.5274\n",
            "veh_value_cat[T.2] -0.1309   0.3892 -0.3363 0.7366 -0.8938  0.6320\n",
            "veh_value_cat[T.3] -0.2585   0.5690 -0.4543 0.6496 -1.3738  0.8568\n",
            "veh_value_cat[T.4] -0.2753   0.7496 -0.3672 0.7134 -1.7446  1.1940\n",
            "veh_value_cat[T.5]  0.1263   0.8169  0.1547 0.8771 -1.4748  1.7275\n",
            "veh_body[T.HBACK]  -0.7178   1.0858 -0.6611 0.5086 -2.8460  1.4104\n",
            "veh_body[T.HDTOP]  -0.7897   1.3125 -0.6017 0.5474 -3.3621  1.7827\n",
            "veh_body[T.MIBUS]  -0.4441   1.5986 -0.2778 0.7812 -3.5774  2.6892\n",
            "veh_body[T.Other]  -1.0597   2.3605 -0.4489 0.6535 -5.6863  3.5668\n",
            "veh_body[T.PANVN]  -0.4403   1.4956 -0.2944 0.7685 -3.3716  2.4910\n",
            "veh_body[T.SEDAN]  -0.4414   1.0684 -0.4132 0.6795 -2.5354  1.6525\n",
            "veh_body[T.STNWG]  -0.8074   1.0800 -0.7476 0.4547 -2.9241  1.3093\n",
            "veh_body[T.TRUCK]  -0.1784   1.2455 -0.1433 0.8861 -2.6195  2.2627\n",
            "veh_body[T.UTE]    -0.8898   1.1532 -0.7716 0.4403 -3.1500  1.3704\n",
            "veh_age[T.2]        0.2659   0.3939  0.6750 0.4997 -0.5061  1.0378\n",
            "veh_age[T.3]        0.1295   0.4277  0.3028 0.7621 -0.7088  0.9678\n",
            "veh_age[T.4]        0.0273   0.5436  0.0503 0.9599 -1.0381  1.0928\n",
            "gender[T.M]         0.1894   0.2547  0.7434 0.4573 -0.3099  0.6887\n",
            "area[T.B]           0.0068   0.3847  0.0178 0.9858 -0.7471  0.7608\n",
            "area[T.C]           0.3161   0.3358  0.9413 0.3465 -0.3421  0.9742\n",
            "area[T.D]           0.4001   0.4295  0.9316 0.3516 -0.4417  1.2418\n",
            "area[T.E]           0.3107   0.4852  0.6403 0.5219 -0.6403  1.2617\n",
            "area[T.F]           0.8972   0.5443  1.6484 0.0993 -0.1696  1.9641\n",
            "agecat[T.2]        -0.6394   0.4596 -1.3911 0.1642 -1.5403  0.2615\n",
            "agecat[T.3]        -0.7456   0.4481 -1.6637 0.0962 -1.6239  0.1327\n",
            "agecat[T.4]        -0.7478   0.4446 -1.6820 0.0926 -1.6192  0.1236\n",
            "agecat[T.5]        -0.9775   0.4874 -2.0057 0.0449 -1.9328 -0.0223\n",
            "agecat[T.6]        -0.9214   0.5497 -1.6761 0.0937 -1.9988  0.1561\n",
            "==================================================================\n",
            "\n"
          ],
          "name": "stdout"
        }
      ]
    },
    {
      "cell_type": "code",
      "metadata": {
        "id": "Tbo9mxmcDimc"
      },
      "source": [
        "ypred = tweedie_result.predict(X_test)"
      ],
      "execution_count": null,
      "outputs": []
    },
    {
      "cell_type": "code",
      "metadata": {
        "id": "W8jzqm_RMu7R",
        "colab": {
          "base_uri": "https://localhost:8080/",
          "height": 34
        },
        "outputId": "f200b962-de9f-4457-d7db-ab4764afb74f"
      },
      "source": [
        "# Calculating RMSE\n",
        "from sklearn.metrics import mean_squared_error\n",
        "rmse =np.sqrt(mean_squared_error(y_test,ypred))\n",
        "rmse"
      ],
      "execution_count": null,
      "outputs": [
        {
          "output_type": "execute_result",
          "data": {
            "text/plain": [
              "967.1472146811549"
            ]
          },
          "metadata": {
            "tags": []
          },
          "execution_count": 23
        }
      ]
    },
    {
      "cell_type": "code",
      "metadata": {
        "id": "PAghfX5EdjZ2",
        "outputId": "d060b9d6-7a30-4ebf-e42c-4fe7af96d387",
        "colab": {
          "base_uri": "https://localhost:8080/",
          "height": 265
        }
      },
      "source": [
        "model_predictions = tweedie_result.get_prediction()\n",
        "#.summary_frame() returns a pandas DataFrame\n",
        "predictions_summary_frame = model_predictions.summary_frame()\n",
        "print(predictions_summary_frame)"
      ],
      "execution_count": null,
      "outputs": [
        {
          "output_type": "stream",
          "text": [
            "             mean     mean_se  mean_ci_lower  mean_ci_upper\n",
            "0      398.921262  186.213028     159.791471     995.911559\n",
            "1      299.063945  134.273880     124.048399     721.002806\n",
            "2      331.403026  270.151158      67.062390    1637.698339\n",
            "3      588.030453  413.391912     148.250347    2332.404748\n",
            "4      410.555074  189.634232     166.036599    1015.170570\n",
            "...           ...         ...            ...            ...\n",
            "67850  427.675136  282.330652     117.271232    1559.683634\n",
            "67852  516.057732  267.434995     186.888577    1424.996574\n",
            "67853  357.898487  176.197092     136.365535     939.323318\n",
            "67854  454.713000  220.772978     175.574179    1177.644196\n",
            "67855  666.115473  370.900849     223.661171    1983.848255\n",
            "\n",
            "[54175 rows x 4 columns]\n"
          ],
          "name": "stdout"
        }
      ]
    },
    {
      "cell_type": "markdown",
      "metadata": {
        "id": "AiUPZRxZnBQ_"
      },
      "source": [
        "XGBOOST"
      ]
    },
    {
      "cell_type": "code",
      "metadata": {
        "id": "s5lMVOXCnmXi"
      },
      "source": [
        "df4=df3.drop([\"veh_value\",\"clm\",\"numclaims\",\"X_OBSTAT_\"], axis = 1)"
      ],
      "execution_count": null,
      "outputs": []
    },
    {
      "cell_type": "code",
      "metadata": {
        "id": "d5H_2Fa-nCoK",
        "colab": {
          "base_uri": "https://localhost:8080/",
          "height": 217
        },
        "outputId": "71b3a802-45fb-4e24-ca43-e21500e48809"
      },
      "source": [
        "data = pd.get_dummies(df4, prefix_sep=\"_\",columns =[\"veh_value_cat\",\"veh_body\",\"veh_age\",\"gender\",\"area\",\"agecat\"],\n",
        "drop_first=True)\n",
        "data.head()"
      ],
      "execution_count": null,
      "outputs": [
        {
          "output_type": "execute_result",
          "data": {
            "text/html": [
              "<div>\n",
              "<style scoped>\n",
              "    .dataframe tbody tr th:only-of-type {\n",
              "        vertical-align: middle;\n",
              "    }\n",
              "\n",
              "    .dataframe tbody tr th {\n",
              "        vertical-align: top;\n",
              "    }\n",
              "\n",
              "    .dataframe thead th {\n",
              "        text-align: right;\n",
              "    }\n",
              "</style>\n",
              "<table border=\"1\" class=\"dataframe\">\n",
              "  <thead>\n",
              "    <tr style=\"text-align: right;\">\n",
              "      <th></th>\n",
              "      <th>exposure</th>\n",
              "      <th>claimcst0</th>\n",
              "      <th>veh_value_cat_2</th>\n",
              "      <th>veh_value_cat_3</th>\n",
              "      <th>veh_value_cat_4</th>\n",
              "      <th>veh_value_cat_5</th>\n",
              "      <th>veh_body_HBACK</th>\n",
              "      <th>veh_body_HDTOP</th>\n",
              "      <th>veh_body_MIBUS</th>\n",
              "      <th>veh_body_Other</th>\n",
              "      <th>veh_body_PANVN</th>\n",
              "      <th>veh_body_SEDAN</th>\n",
              "      <th>veh_body_STNWG</th>\n",
              "      <th>veh_body_TRUCK</th>\n",
              "      <th>veh_body_UTE</th>\n",
              "      <th>veh_age_2</th>\n",
              "      <th>veh_age_3</th>\n",
              "      <th>veh_age_4</th>\n",
              "      <th>gender_M</th>\n",
              "      <th>area_B</th>\n",
              "      <th>area_C</th>\n",
              "      <th>area_D</th>\n",
              "      <th>area_E</th>\n",
              "      <th>area_F</th>\n",
              "      <th>agecat_2</th>\n",
              "      <th>agecat_3</th>\n",
              "      <th>agecat_4</th>\n",
              "      <th>agecat_5</th>\n",
              "      <th>agecat_6</th>\n",
              "    </tr>\n",
              "  </thead>\n",
              "  <tbody>\n",
              "    <tr>\n",
              "      <th>0</th>\n",
              "      <td>0.303901</td>\n",
              "      <td>0.0</td>\n",
              "      <td>1</td>\n",
              "      <td>0</td>\n",
              "      <td>0</td>\n",
              "      <td>0</td>\n",
              "      <td>1</td>\n",
              "      <td>0</td>\n",
              "      <td>0</td>\n",
              "      <td>0</td>\n",
              "      <td>0</td>\n",
              "      <td>0</td>\n",
              "      <td>0</td>\n",
              "      <td>0</td>\n",
              "      <td>0</td>\n",
              "      <td>0</td>\n",
              "      <td>1</td>\n",
              "      <td>0</td>\n",
              "      <td>0</td>\n",
              "      <td>0</td>\n",
              "      <td>1</td>\n",
              "      <td>0</td>\n",
              "      <td>0</td>\n",
              "      <td>0</td>\n",
              "      <td>1</td>\n",
              "      <td>0</td>\n",
              "      <td>0</td>\n",
              "      <td>0</td>\n",
              "      <td>0</td>\n",
              "    </tr>\n",
              "    <tr>\n",
              "      <th>1</th>\n",
              "      <td>0.648871</td>\n",
              "      <td>0.0</td>\n",
              "      <td>1</td>\n",
              "      <td>0</td>\n",
              "      <td>0</td>\n",
              "      <td>0</td>\n",
              "      <td>1</td>\n",
              "      <td>0</td>\n",
              "      <td>0</td>\n",
              "      <td>0</td>\n",
              "      <td>0</td>\n",
              "      <td>0</td>\n",
              "      <td>0</td>\n",
              "      <td>0</td>\n",
              "      <td>0</td>\n",
              "      <td>1</td>\n",
              "      <td>0</td>\n",
              "      <td>0</td>\n",
              "      <td>0</td>\n",
              "      <td>0</td>\n",
              "      <td>0</td>\n",
              "      <td>0</td>\n",
              "      <td>0</td>\n",
              "      <td>0</td>\n",
              "      <td>0</td>\n",
              "      <td>0</td>\n",
              "      <td>1</td>\n",
              "      <td>0</td>\n",
              "      <td>0</td>\n",
              "    </tr>\n",
              "    <tr>\n",
              "      <th>2</th>\n",
              "      <td>0.569473</td>\n",
              "      <td>0.0</td>\n",
              "      <td>0</td>\n",
              "      <td>0</td>\n",
              "      <td>1</td>\n",
              "      <td>0</td>\n",
              "      <td>0</td>\n",
              "      <td>0</td>\n",
              "      <td>0</td>\n",
              "      <td>0</td>\n",
              "      <td>0</td>\n",
              "      <td>0</td>\n",
              "      <td>0</td>\n",
              "      <td>0</td>\n",
              "      <td>1</td>\n",
              "      <td>1</td>\n",
              "      <td>0</td>\n",
              "      <td>0</td>\n",
              "      <td>0</td>\n",
              "      <td>0</td>\n",
              "      <td>0</td>\n",
              "      <td>0</td>\n",
              "      <td>1</td>\n",
              "      <td>0</td>\n",
              "      <td>1</td>\n",
              "      <td>0</td>\n",
              "      <td>0</td>\n",
              "      <td>0</td>\n",
              "      <td>0</td>\n",
              "    </tr>\n",
              "    <tr>\n",
              "      <th>3</th>\n",
              "      <td>0.317591</td>\n",
              "      <td>0.0</td>\n",
              "      <td>0</td>\n",
              "      <td>0</td>\n",
              "      <td>0</td>\n",
              "      <td>1</td>\n",
              "      <td>0</td>\n",
              "      <td>0</td>\n",
              "      <td>0</td>\n",
              "      <td>0</td>\n",
              "      <td>0</td>\n",
              "      <td>0</td>\n",
              "      <td>1</td>\n",
              "      <td>0</td>\n",
              "      <td>0</td>\n",
              "      <td>1</td>\n",
              "      <td>0</td>\n",
              "      <td>0</td>\n",
              "      <td>0</td>\n",
              "      <td>0</td>\n",
              "      <td>0</td>\n",
              "      <td>1</td>\n",
              "      <td>0</td>\n",
              "      <td>0</td>\n",
              "      <td>1</td>\n",
              "      <td>0</td>\n",
              "      <td>0</td>\n",
              "      <td>0</td>\n",
              "      <td>0</td>\n",
              "    </tr>\n",
              "    <tr>\n",
              "      <th>4</th>\n",
              "      <td>0.648871</td>\n",
              "      <td>0.0</td>\n",
              "      <td>0</td>\n",
              "      <td>0</td>\n",
              "      <td>0</td>\n",
              "      <td>0</td>\n",
              "      <td>1</td>\n",
              "      <td>0</td>\n",
              "      <td>0</td>\n",
              "      <td>0</td>\n",
              "      <td>0</td>\n",
              "      <td>0</td>\n",
              "      <td>0</td>\n",
              "      <td>0</td>\n",
              "      <td>0</td>\n",
              "      <td>0</td>\n",
              "      <td>0</td>\n",
              "      <td>1</td>\n",
              "      <td>0</td>\n",
              "      <td>0</td>\n",
              "      <td>1</td>\n",
              "      <td>0</td>\n",
              "      <td>0</td>\n",
              "      <td>0</td>\n",
              "      <td>1</td>\n",
              "      <td>0</td>\n",
              "      <td>0</td>\n",
              "      <td>0</td>\n",
              "      <td>0</td>\n",
              "    </tr>\n",
              "  </tbody>\n",
              "</table>\n",
              "</div>"
            ],
            "text/plain": [
              "   exposure  claimcst0  veh_value_cat_2  ...  agecat_4  agecat_5  agecat_6\n",
              "0  0.303901        0.0                1  ...         0         0         0\n",
              "1  0.648871        0.0                1  ...         1         0         0\n",
              "2  0.569473        0.0                0  ...         0         0         0\n",
              "3  0.317591        0.0                0  ...         0         0         0\n",
              "4  0.648871        0.0                0  ...         0         0         0\n",
              "\n",
              "[5 rows x 29 columns]"
            ]
          },
          "metadata": {
            "tags": []
          },
          "execution_count": 30
        }
      ]
    },
    {
      "cell_type": "code",
      "metadata": {
        "id": "6ODy9kExoPA1"
      },
      "source": [
        "test_df = data.pop('claimcst0')"
      ],
      "execution_count": null,
      "outputs": []
    },
    {
      "cell_type": "code",
      "metadata": {
        "id": "fVeKzChHofKD",
        "colab": {
          "base_uri": "https://localhost:8080/",
          "height": 217
        },
        "outputId": "e3d1f524-151f-4b8f-8364-50a83187c36b"
      },
      "source": [
        "data['claimcst0']=test_df\n",
        "data.head()"
      ],
      "execution_count": null,
      "outputs": [
        {
          "output_type": "execute_result",
          "data": {
            "text/html": [
              "<div>\n",
              "<style scoped>\n",
              "    .dataframe tbody tr th:only-of-type {\n",
              "        vertical-align: middle;\n",
              "    }\n",
              "\n",
              "    .dataframe tbody tr th {\n",
              "        vertical-align: top;\n",
              "    }\n",
              "\n",
              "    .dataframe thead th {\n",
              "        text-align: right;\n",
              "    }\n",
              "</style>\n",
              "<table border=\"1\" class=\"dataframe\">\n",
              "  <thead>\n",
              "    <tr style=\"text-align: right;\">\n",
              "      <th></th>\n",
              "      <th>exposure</th>\n",
              "      <th>veh_value_cat_2</th>\n",
              "      <th>veh_value_cat_3</th>\n",
              "      <th>veh_value_cat_4</th>\n",
              "      <th>veh_value_cat_5</th>\n",
              "      <th>veh_body_HBACK</th>\n",
              "      <th>veh_body_HDTOP</th>\n",
              "      <th>veh_body_MIBUS</th>\n",
              "      <th>veh_body_Other</th>\n",
              "      <th>veh_body_PANVN</th>\n",
              "      <th>veh_body_SEDAN</th>\n",
              "      <th>veh_body_STNWG</th>\n",
              "      <th>veh_body_TRUCK</th>\n",
              "      <th>veh_body_UTE</th>\n",
              "      <th>veh_age_2</th>\n",
              "      <th>veh_age_3</th>\n",
              "      <th>veh_age_4</th>\n",
              "      <th>gender_M</th>\n",
              "      <th>area_B</th>\n",
              "      <th>area_C</th>\n",
              "      <th>area_D</th>\n",
              "      <th>area_E</th>\n",
              "      <th>area_F</th>\n",
              "      <th>agecat_2</th>\n",
              "      <th>agecat_3</th>\n",
              "      <th>agecat_4</th>\n",
              "      <th>agecat_5</th>\n",
              "      <th>agecat_6</th>\n",
              "      <th>claimcst0</th>\n",
              "    </tr>\n",
              "  </thead>\n",
              "  <tbody>\n",
              "    <tr>\n",
              "      <th>0</th>\n",
              "      <td>0.303901</td>\n",
              "      <td>1</td>\n",
              "      <td>0</td>\n",
              "      <td>0</td>\n",
              "      <td>0</td>\n",
              "      <td>1</td>\n",
              "      <td>0</td>\n",
              "      <td>0</td>\n",
              "      <td>0</td>\n",
              "      <td>0</td>\n",
              "      <td>0</td>\n",
              "      <td>0</td>\n",
              "      <td>0</td>\n",
              "      <td>0</td>\n",
              "      <td>0</td>\n",
              "      <td>1</td>\n",
              "      <td>0</td>\n",
              "      <td>0</td>\n",
              "      <td>0</td>\n",
              "      <td>1</td>\n",
              "      <td>0</td>\n",
              "      <td>0</td>\n",
              "      <td>0</td>\n",
              "      <td>1</td>\n",
              "      <td>0</td>\n",
              "      <td>0</td>\n",
              "      <td>0</td>\n",
              "      <td>0</td>\n",
              "      <td>0.0</td>\n",
              "    </tr>\n",
              "    <tr>\n",
              "      <th>1</th>\n",
              "      <td>0.648871</td>\n",
              "      <td>1</td>\n",
              "      <td>0</td>\n",
              "      <td>0</td>\n",
              "      <td>0</td>\n",
              "      <td>1</td>\n",
              "      <td>0</td>\n",
              "      <td>0</td>\n",
              "      <td>0</td>\n",
              "      <td>0</td>\n",
              "      <td>0</td>\n",
              "      <td>0</td>\n",
              "      <td>0</td>\n",
              "      <td>0</td>\n",
              "      <td>1</td>\n",
              "      <td>0</td>\n",
              "      <td>0</td>\n",
              "      <td>0</td>\n",
              "      <td>0</td>\n",
              "      <td>0</td>\n",
              "      <td>0</td>\n",
              "      <td>0</td>\n",
              "      <td>0</td>\n",
              "      <td>0</td>\n",
              "      <td>0</td>\n",
              "      <td>1</td>\n",
              "      <td>0</td>\n",
              "      <td>0</td>\n",
              "      <td>0.0</td>\n",
              "    </tr>\n",
              "    <tr>\n",
              "      <th>2</th>\n",
              "      <td>0.569473</td>\n",
              "      <td>0</td>\n",
              "      <td>0</td>\n",
              "      <td>1</td>\n",
              "      <td>0</td>\n",
              "      <td>0</td>\n",
              "      <td>0</td>\n",
              "      <td>0</td>\n",
              "      <td>0</td>\n",
              "      <td>0</td>\n",
              "      <td>0</td>\n",
              "      <td>0</td>\n",
              "      <td>0</td>\n",
              "      <td>1</td>\n",
              "      <td>1</td>\n",
              "      <td>0</td>\n",
              "      <td>0</td>\n",
              "      <td>0</td>\n",
              "      <td>0</td>\n",
              "      <td>0</td>\n",
              "      <td>0</td>\n",
              "      <td>1</td>\n",
              "      <td>0</td>\n",
              "      <td>1</td>\n",
              "      <td>0</td>\n",
              "      <td>0</td>\n",
              "      <td>0</td>\n",
              "      <td>0</td>\n",
              "      <td>0.0</td>\n",
              "    </tr>\n",
              "    <tr>\n",
              "      <th>3</th>\n",
              "      <td>0.317591</td>\n",
              "      <td>0</td>\n",
              "      <td>0</td>\n",
              "      <td>0</td>\n",
              "      <td>1</td>\n",
              "      <td>0</td>\n",
              "      <td>0</td>\n",
              "      <td>0</td>\n",
              "      <td>0</td>\n",
              "      <td>0</td>\n",
              "      <td>0</td>\n",
              "      <td>1</td>\n",
              "      <td>0</td>\n",
              "      <td>0</td>\n",
              "      <td>1</td>\n",
              "      <td>0</td>\n",
              "      <td>0</td>\n",
              "      <td>0</td>\n",
              "      <td>0</td>\n",
              "      <td>0</td>\n",
              "      <td>1</td>\n",
              "      <td>0</td>\n",
              "      <td>0</td>\n",
              "      <td>1</td>\n",
              "      <td>0</td>\n",
              "      <td>0</td>\n",
              "      <td>0</td>\n",
              "      <td>0</td>\n",
              "      <td>0.0</td>\n",
              "    </tr>\n",
              "    <tr>\n",
              "      <th>4</th>\n",
              "      <td>0.648871</td>\n",
              "      <td>0</td>\n",
              "      <td>0</td>\n",
              "      <td>0</td>\n",
              "      <td>0</td>\n",
              "      <td>1</td>\n",
              "      <td>0</td>\n",
              "      <td>0</td>\n",
              "      <td>0</td>\n",
              "      <td>0</td>\n",
              "      <td>0</td>\n",
              "      <td>0</td>\n",
              "      <td>0</td>\n",
              "      <td>0</td>\n",
              "      <td>0</td>\n",
              "      <td>0</td>\n",
              "      <td>1</td>\n",
              "      <td>0</td>\n",
              "      <td>0</td>\n",
              "      <td>1</td>\n",
              "      <td>0</td>\n",
              "      <td>0</td>\n",
              "      <td>0</td>\n",
              "      <td>1</td>\n",
              "      <td>0</td>\n",
              "      <td>0</td>\n",
              "      <td>0</td>\n",
              "      <td>0</td>\n",
              "      <td>0.0</td>\n",
              "    </tr>\n",
              "  </tbody>\n",
              "</table>\n",
              "</div>"
            ],
            "text/plain": [
              "   exposure  veh_value_cat_2  veh_value_cat_3  ...  agecat_5  agecat_6  claimcst0\n",
              "0  0.303901                1                0  ...         0         0        0.0\n",
              "1  0.648871                1                0  ...         0         0        0.0\n",
              "2  0.569473                0                0  ...         0         0        0.0\n",
              "3  0.317591                0                0  ...         0         0        0.0\n",
              "4  0.648871                0                0  ...         0         0        0.0\n",
              "\n",
              "[5 rows x 29 columns]"
            ]
          },
          "metadata": {
            "tags": []
          },
          "execution_count": 32
        }
      ]
    },
    {
      "cell_type": "code",
      "metadata": {
        "id": "9j2lx5RzoxEI"
      },
      "source": [
        "import xgboost as xgb\n",
        "from sklearn.metrics import mean_squared_error\n",
        "from sklearn.model_selection import train_test_split"
      ],
      "execution_count": null,
      "outputs": []
    },
    {
      "cell_type": "code",
      "metadata": {
        "id": "9RFwjDEeosb3"
      },
      "source": [
        "X, y = data.iloc[:,:-1],data.iloc[:,-1]"
      ],
      "execution_count": null,
      "outputs": []
    },
    {
      "cell_type": "code",
      "metadata": {
        "id": "AL8NjXYEDPwg"
      },
      "source": [
        "X_train, X_test, y_train, y_test = train_test_split(X,y,test_size=.2, random_state=123)"
      ],
      "execution_count": null,
      "outputs": []
    },
    {
      "cell_type": "markdown",
      "metadata": {
        "id": "5rbYiNs6C5WO"
      },
      "source": []
    },
    {
      "cell_type": "code",
      "metadata": {
        "id": "vBTMh_Aiom-k"
      },
      "source": [
        "dtrain = xgb.DMatrix(data=X_train.iloc[:,1:28],label=y_train)\n",
        "dtest = xgb.DMatrix(data=X_test.iloc[:,1:28],label=y_test)"
      ],
      "execution_count": null,
      "outputs": []
    },
    {
      "cell_type": "code",
      "metadata": {
        "id": "pafHwOSnN3NY"
      },
      "source": [
        "dtrain.set_base_margin(np.log(X_train['exposure']))\n",
        "dtest.set_base_margin(np.log(X_test['exposure']))"
      ],
      "execution_count": null,
      "outputs": []
    },
    {
      "cell_type": "markdown",
      "metadata": {
        "id": "HOnwm0rug7iK"
      },
      "source": [
        "Modeling"
      ]
    },
    {
      "cell_type": "code",
      "metadata": {
        "id": "Enq5Vn8nZRSl"
      },
      "source": [
        "params = {\"objective\":\"reg:tweedie\",'colsample_bytree': 1.0,'learning_rate': 0.01,\n",
        "                'gamma':1.5,'max_depth': 2, 'subsample':0.6,'reg_alpha': 0, 'reg_lambda':1,'min_child_weight':5,'n_estimators':2000,\n",
        "          \"tweedie_variance_power\":1.6}\n",
        "\n",
        "cv_results = xgb.cv(dtrain=dtrain, params=params, nfold=3,\n",
        "                    num_boost_round=2000,early_stopping_rounds=10,metrics=\"rmse\", as_pandas=True, seed=123)"
      ],
      "execution_count": null,
      "outputs": []
    },
    {
      "cell_type": "code",
      "metadata": {
        "id": "RzihpdYaZYLJ",
        "colab": {
          "base_uri": "https://localhost:8080/",
          "height": 197
        },
        "outputId": "bdbd80e5-0ca9-461b-f7b6-7447f0256b45"
      },
      "source": [
        "cv_results.head()"
      ],
      "execution_count": null,
      "outputs": [
        {
          "output_type": "execute_result",
          "data": {
            "text/html": [
              "<div>\n",
              "<style scoped>\n",
              "    .dataframe tbody tr th:only-of-type {\n",
              "        vertical-align: middle;\n",
              "    }\n",
              "\n",
              "    .dataframe tbody tr th {\n",
              "        vertical-align: top;\n",
              "    }\n",
              "\n",
              "    .dataframe thead th {\n",
              "        text-align: right;\n",
              "    }\n",
              "</style>\n",
              "<table border=\"1\" class=\"dataframe\">\n",
              "  <thead>\n",
              "    <tr style=\"text-align: right;\">\n",
              "      <th></th>\n",
              "      <th>train-rmse-mean</th>\n",
              "      <th>train-rmse-std</th>\n",
              "      <th>test-rmse-mean</th>\n",
              "      <th>test-rmse-std</th>\n",
              "    </tr>\n",
              "  </thead>\n",
              "  <tbody>\n",
              "    <tr>\n",
              "      <th>0</th>\n",
              "      <td>1041.407247</td>\n",
              "      <td>44.692083</td>\n",
              "      <td>1038.612793</td>\n",
              "      <td>88.373932</td>\n",
              "    </tr>\n",
              "    <tr>\n",
              "      <th>1</th>\n",
              "      <td>1041.406006</td>\n",
              "      <td>44.692110</td>\n",
              "      <td>1038.611511</td>\n",
              "      <td>88.373961</td>\n",
              "    </tr>\n",
              "    <tr>\n",
              "      <th>2</th>\n",
              "      <td>1041.404745</td>\n",
              "      <td>44.692163</td>\n",
              "      <td>1038.610291</td>\n",
              "      <td>88.374060</td>\n",
              "    </tr>\n",
              "    <tr>\n",
              "      <th>3</th>\n",
              "      <td>1041.403402</td>\n",
              "      <td>44.692163</td>\n",
              "      <td>1038.608928</td>\n",
              "      <td>88.374141</td>\n",
              "    </tr>\n",
              "    <tr>\n",
              "      <th>4</th>\n",
              "      <td>1041.402120</td>\n",
              "      <td>44.692242</td>\n",
              "      <td>1038.607625</td>\n",
              "      <td>88.374193</td>\n",
              "    </tr>\n",
              "  </tbody>\n",
              "</table>\n",
              "</div>"
            ],
            "text/plain": [
              "   train-rmse-mean  train-rmse-std  test-rmse-mean  test-rmse-std\n",
              "0      1041.407247       44.692083     1038.612793      88.373932\n",
              "1      1041.406006       44.692110     1038.611511      88.373961\n",
              "2      1041.404745       44.692163     1038.610291      88.374060\n",
              "3      1041.403402       44.692163     1038.608928      88.374141\n",
              "4      1041.402120       44.692242     1038.607625      88.374193"
            ]
          },
          "metadata": {
            "tags": []
          },
          "execution_count": 39
        }
      ]
    },
    {
      "cell_type": "code",
      "metadata": {
        "id": "OtARy3JPZcbe",
        "colab": {
          "base_uri": "https://localhost:8080/",
          "height": 52
        },
        "outputId": "04c640f3-1ca9-4b2a-f3d7-a24ae96ee204"
      },
      "source": [
        "print((cv_results[\"test-rmse-mean\"]).tail(1))"
      ],
      "execution_count": null,
      "outputs": [
        {
          "output_type": "stream",
          "text": [
            "437    1029.123637\n",
            "Name: test-rmse-mean, dtype: float64\n"
          ],
          "name": "stdout"
        }
      ]
    },
    {
      "cell_type": "code",
      "metadata": {
        "id": "pdD27M55ZhGV"
      },
      "source": [
        "xg_reg = xgb.train(params=params, dtrain=dtrain, num_boost_round=10000)"
      ],
      "execution_count": null,
      "outputs": []
    },
    {
      "cell_type": "code",
      "metadata": {
        "id": "QN37HT5PqKUn"
      },
      "source": [
        "preds = xg_reg.predict(dtrain)"
      ],
      "execution_count": null,
      "outputs": []
    },
    {
      "cell_type": "code",
      "metadata": {
        "id": "Nh0ZmDHBZt1O"
      },
      "source": [
        "import xgboost as xgb\n",
        "from sklearn.metrics import mean_squared_error"
      ],
      "execution_count": null,
      "outputs": []
    },
    {
      "cell_type": "code",
      "metadata": {
        "id": "8a7PyrQkZy9c",
        "colab": {
          "base_uri": "https://localhost:8080/",
          "height": 34
        },
        "outputId": "155f5bcd-1007-4b15-86e8-59e0b3b64b35"
      },
      "source": [
        "rmse = np.sqrt(mean_squared_error(y_train, preds))\n",
        "print(\"RMSE: %f\" % (rmse))"
      ],
      "execution_count": null,
      "outputs": [
        {
          "output_type": "stream",
          "text": [
            "RMSE: 1039.792499\n"
          ],
          "name": "stdout"
        }
      ]
    }
  ]
}